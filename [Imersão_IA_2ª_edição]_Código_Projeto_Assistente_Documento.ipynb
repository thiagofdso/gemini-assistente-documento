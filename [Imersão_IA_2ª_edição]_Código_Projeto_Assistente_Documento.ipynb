{
  "nbformat": 4,
  "nbformat_minor": 0,
  "metadata": {
    "colab": {
      "provenance": [],
      "include_colab_link": true
    },
    "kernelspec": {
      "name": "python3",
      "display_name": "Python 3"
    },
    "language_info": {
      "name": "python"
    }
  },
  "cells": [
    {
      "cell_type": "markdown",
      "metadata": {
        "id": "view-in-github",
        "colab_type": "text"
      },
      "source": [
        "<a href=\"https://colab.research.google.com/github/thiagofdso/gemini-assistente-documento/blob/main/%5BImers%C3%A3o_IA_2%C2%AA_edi%C3%A7%C3%A3o%5D_C%C3%B3digo_Projeto_Assistente_Documento.ipynb\" target=\"_parent\"><img src=\"https://colab.research.google.com/assets/colab-badge.svg\" alt=\"Open In Colab\"/></a>"
      ]
    },
    {
      "cell_type": "code",
      "execution_count": null,
      "metadata": {
        "colab": {
          "base_uri": "https://localhost:8080/"
        },
        "id": "ooGPbPBplPON",
        "outputId": "89a4161a-cbd6-492e-e4ef-09069aa340d1"
      },
      "outputs": [
        {
          "output_type": "stream",
          "name": "stdout",
          "text": [
            "\u001b[?25l     \u001b[90m━━━━━━━━━━━━━━━━━━━━━━━━━━━━━━━━━━━━━━━━\u001b[0m \u001b[32m0.0/142.2 kB\u001b[0m \u001b[31m?\u001b[0m eta \u001b[36m-:--:--\u001b[0m\r\u001b[2K     \u001b[91m━━━━━━━━━━━━━━━━━━━━━━━━━━━━━━━\u001b[0m\u001b[91m╸\u001b[0m\u001b[90m━━━━━━━━\u001b[0m \u001b[32m112.6/142.2 kB\u001b[0m \u001b[31m3.1 MB/s\u001b[0m eta \u001b[36m0:00:01\u001b[0m\r\u001b[2K     \u001b[90m━━━━━━━━━━━━━━━━━━━━━━━━━━━━━━━━━━━━━━━━\u001b[0m \u001b[32m142.2/142.2 kB\u001b[0m \u001b[31m2.8 MB/s\u001b[0m eta \u001b[36m0:00:00\u001b[0m\n",
            "\u001b[?25h\u001b[?25l     \u001b[90m━━━━━━━━━━━━━━━━━━━━━━━━━━━━━━━━━━━━━━━━\u001b[0m \u001b[32m0.0/664.5 kB\u001b[0m \u001b[31m?\u001b[0m eta \u001b[36m-:--:--\u001b[0m\r\u001b[2K     \u001b[91m━━━━━━━━━━━━━━━━━━━━━━━━━\u001b[0m\u001b[90m╺\u001b[0m\u001b[90m━━━━━━━━━━━━━━\u001b[0m \u001b[32m419.8/664.5 kB\u001b[0m \u001b[31m12.2 MB/s\u001b[0m eta \u001b[36m0:00:01\u001b[0m\r\u001b[2K     \u001b[90m━━━━━━━━━━━━━━━━━━━━━━━━━━━━━━━━━━━━━━━━\u001b[0m \u001b[32m664.5/664.5 kB\u001b[0m \u001b[31m9.4 MB/s\u001b[0m eta \u001b[36m0:00:00\u001b[0m\n",
            "\u001b[?25h"
          ]
        }
      ],
      "source": [
        "!pip install -U -q google-generativeai"
      ]
    },
    {
      "cell_type": "code",
      "source": [
        "#Importações e configurações iniciais\n",
        "import numpy as np\n",
        "import pandas as pd\n",
        "import google.generativeai as genai\n",
        "\n",
        "# Configurar para exibir o conteúdo completo das colunas\n",
        "pd.set_option('display.max_colwidth', None)  # Para pandas versões < 1.0.0, use -1 em vez de None\n",
        "\n",
        "GOOGLE_API_KEY=\"\"\n",
        "genai.configure(api_key=GOOGLE_API_KEY)"
      ],
      "metadata": {
        "id": "hF46sMG7ld7Q"
      },
      "execution_count": 18,
      "outputs": []
    },
    {
      "cell_type": "code",
      "source": [
        "for m in genai.list_models():\n",
        "  if 'embedContent' in m.supported_generation_methods:\n",
        "    print(m.name)"
      ],
      "metadata": {
        "colab": {
          "base_uri": "https://localhost:8080/",
          "height": 52
        },
        "id": "fs9DHnhamLPm",
        "outputId": "c8b24c5a-d2ac-41ac-e38b-d50014c2625f"
      },
      "execution_count": 3,
      "outputs": [
        {
          "output_type": "stream",
          "name": "stdout",
          "text": [
            "models/embedding-001\n",
            "models/text-embedding-004\n"
          ]
        }
      ]
    },
    {
      "cell_type": "code",
      "source": [
        "# Caminho para o seu arquivo txt\n",
        "caminho_do_arquivo = \"Portaria_SGD_ME_5651_28_06_2022.txt\"\n",
        "# Referencia\n",
        "# https://www.gov.br/governodigital/pt-br/contratacoes-de-tic/diretrizes-para-contratacao-de-servicos-de-desenvolvimento-e-manutencao-de-sistemas\n",
        "\n",
        "# Inicializar uma lista vazia para armazenar os registros\n",
        "registros = []\n",
        "\n",
        "# Abrir o arquivo para leitura\n",
        "with open(caminho_do_arquivo, 'r') as arquivo:\n",
        "    # Ler cada linha do arquivo\n",
        "    for linha in arquivo:\n",
        "        # Remover espaços em branco e quebras de linha no início e no fim da linha\n",
        "        linha_limpa = linha.strip()\n",
        "        # Adicionar a linha limpa à lista de registros\n",
        "        registros.append([linha_limpa])  # Cada linha é um registro em uma lista\n",
        "\n",
        "# Criar um DataFrame a partir da lista de registros\n",
        "# Cada registro da lista se torna uma linha no DataFrame, e há uma única coluna\n",
        "df = pd.DataFrame(registros, columns=['Conteudo'])\n",
        "\n",
        "# Adicionar uma nova coluna chamada 'Titulo' com o caminho_do_arquivo como valor\n",
        "df['Titulo'] = caminho_do_arquivo\n",
        "\n",
        "# Exibir as primeiras linhas do DataFrame para verificação\n",
        "print(df.head())"
      ],
      "metadata": {
        "colab": {
          "base_uri": "https://localhost:8080/"
        },
        "id": "NoiJ5YPRs_3g",
        "outputId": "4b22c661-74f4-4a23-e041-c7f96671d20b"
      },
      "execution_count": 12,
      "outputs": [
        {
          "output_type": "stream",
          "name": "stdout",
          "text": [
            "                                            Conteudo  \\\n",
            "0  Boas práticas, vedações e orientações para con...   \n",
            "1  As contratações de soluções de software e de s...   \n",
            "2          As orientações estão divididas em partes:   \n",
            "3  A. Contratações de serviços de desenvolvimento...   \n",
            "4  B. Contratação de serviço de desenvolvimento e...   \n",
            "\n",
            "                                Titulo  \n",
            "0  Portaria_SGD_ME_5651_28_06_2022.txt  \n",
            "1  Portaria_SGD_ME_5651_28_06_2022.txt  \n",
            "2  Portaria_SGD_ME_5651_28_06_2022.txt  \n",
            "3  Portaria_SGD_ME_5651_28_06_2022.txt  \n",
            "4  Portaria_SGD_ME_5651_28_06_2022.txt  \n"
          ]
        }
      ]
    },
    {
      "cell_type": "code",
      "source": [
        "model = \"models/embedding-001\""
      ],
      "metadata": {
        "id": "4b-KLmLItiv5"
      },
      "execution_count": 7,
      "outputs": []
    },
    {
      "cell_type": "code",
      "source": [
        "def embed_fn(title, text):\n",
        "  return genai.embed_content(model=model,\n",
        "                                 content=text,\n",
        "                                 title=title,\n",
        "                                 task_type=\"RETRIEVAL_DOCUMENT\")[\"embedding\"]"
      ],
      "metadata": {
        "id": "Asp__XR0v3j5"
      },
      "execution_count": 9,
      "outputs": []
    },
    {
      "cell_type": "code",
      "source": [
        "df[\"Embeddings\"] = df.apply(lambda row: embed_fn(row[\"Titulo\"], row[\"Conteudo\"]), axis=1)\n",
        "df.head()"
      ],
      "metadata": {
        "colab": {
          "base_uri": "https://localhost:8080/",
          "height": 206
        },
        "id": "7Wnn6e1swQfg",
        "outputId": "5664e4d4-8ea7-42cf-c589-8e8bebccb591"
      },
      "execution_count": 13,
      "outputs": [
        {
          "output_type": "execute_result",
          "data": {
            "text/plain": [
              "                                            Conteudo  \\\n",
              "0  Boas práticas, vedações e orientações para con...   \n",
              "1  As contratações de soluções de software e de s...   \n",
              "2          As orientações estão divididas em partes:   \n",
              "3  A. Contratações de serviços de desenvolvimento...   \n",
              "4  B. Contratação de serviço de desenvolvimento e...   \n",
              "\n",
              "                                Titulo  \\\n",
              "0  Portaria_SGD_ME_5651_28_06_2022.txt   \n",
              "1  Portaria_SGD_ME_5651_28_06_2022.txt   \n",
              "2  Portaria_SGD_ME_5651_28_06_2022.txt   \n",
              "3  Portaria_SGD_ME_5651_28_06_2022.txt   \n",
              "4  Portaria_SGD_ME_5651_28_06_2022.txt   \n",
              "\n",
              "                                          Embeddings  \n",
              "0  [0.015973205, -0.04109128, -0.033041187, 0.026...  \n",
              "1  [0.0136532625, -0.047040254, -0.04406508, 0.02...  \n",
              "2  [0.0030821227, -0.025802929, -0.04306511, 0.00...  \n",
              "3  [0.036816586, -0.019493774, -0.068442814, 0.03...  \n",
              "4  [0.0407735, -0.024845522, -0.07316768, 0.02592...  "
            ],
            "text/html": [
              "\n",
              "  <div id=\"df-42772b7e-2ecf-4b6e-9477-43e26e11ffb3\" class=\"colab-df-container\">\n",
              "    <div>\n",
              "<style scoped>\n",
              "    .dataframe tbody tr th:only-of-type {\n",
              "        vertical-align: middle;\n",
              "    }\n",
              "\n",
              "    .dataframe tbody tr th {\n",
              "        vertical-align: top;\n",
              "    }\n",
              "\n",
              "    .dataframe thead th {\n",
              "        text-align: right;\n",
              "    }\n",
              "</style>\n",
              "<table border=\"1\" class=\"dataframe\">\n",
              "  <thead>\n",
              "    <tr style=\"text-align: right;\">\n",
              "      <th></th>\n",
              "      <th>Conteudo</th>\n",
              "      <th>Titulo</th>\n",
              "      <th>Embeddings</th>\n",
              "    </tr>\n",
              "  </thead>\n",
              "  <tbody>\n",
              "    <tr>\n",
              "      <th>0</th>\n",
              "      <td>Boas práticas, vedações e orientações para con...</td>\n",
              "      <td>Portaria_SGD_ME_5651_28_06_2022.txt</td>\n",
              "      <td>[0.015973205, -0.04109128, -0.033041187, 0.026...</td>\n",
              "    </tr>\n",
              "    <tr>\n",
              "      <th>1</th>\n",
              "      <td>As contratações de soluções de software e de s...</td>\n",
              "      <td>Portaria_SGD_ME_5651_28_06_2022.txt</td>\n",
              "      <td>[0.0136532625, -0.047040254, -0.04406508, 0.02...</td>\n",
              "    </tr>\n",
              "    <tr>\n",
              "      <th>2</th>\n",
              "      <td>As orientações estão divididas em partes:</td>\n",
              "      <td>Portaria_SGD_ME_5651_28_06_2022.txt</td>\n",
              "      <td>[0.0030821227, -0.025802929, -0.04306511, 0.00...</td>\n",
              "    </tr>\n",
              "    <tr>\n",
              "      <th>3</th>\n",
              "      <td>A. Contratações de serviços de desenvolvimento...</td>\n",
              "      <td>Portaria_SGD_ME_5651_28_06_2022.txt</td>\n",
              "      <td>[0.036816586, -0.019493774, -0.068442814, 0.03...</td>\n",
              "    </tr>\n",
              "    <tr>\n",
              "      <th>4</th>\n",
              "      <td>B. Contratação de serviço de desenvolvimento e...</td>\n",
              "      <td>Portaria_SGD_ME_5651_28_06_2022.txt</td>\n",
              "      <td>[0.0407735, -0.024845522, -0.07316768, 0.02592...</td>\n",
              "    </tr>\n",
              "  </tbody>\n",
              "</table>\n",
              "</div>\n",
              "    <div class=\"colab-df-buttons\">\n",
              "\n",
              "  <div class=\"colab-df-container\">\n",
              "    <button class=\"colab-df-convert\" onclick=\"convertToInteractive('df-42772b7e-2ecf-4b6e-9477-43e26e11ffb3')\"\n",
              "            title=\"Convert this dataframe to an interactive table.\"\n",
              "            style=\"display:none;\">\n",
              "\n",
              "  <svg xmlns=\"http://www.w3.org/2000/svg\" height=\"24px\" viewBox=\"0 -960 960 960\">\n",
              "    <path d=\"M120-120v-720h720v720H120Zm60-500h600v-160H180v160Zm220 220h160v-160H400v160Zm0 220h160v-160H400v160ZM180-400h160v-160H180v160Zm440 0h160v-160H620v160ZM180-180h160v-160H180v160Zm440 0h160v-160H620v160Z\"/>\n",
              "  </svg>\n",
              "    </button>\n",
              "\n",
              "  <style>\n",
              "    .colab-df-container {\n",
              "      display:flex;\n",
              "      gap: 12px;\n",
              "    }\n",
              "\n",
              "    .colab-df-convert {\n",
              "      background-color: #E8F0FE;\n",
              "      border: none;\n",
              "      border-radius: 50%;\n",
              "      cursor: pointer;\n",
              "      display: none;\n",
              "      fill: #1967D2;\n",
              "      height: 32px;\n",
              "      padding: 0 0 0 0;\n",
              "      width: 32px;\n",
              "    }\n",
              "\n",
              "    .colab-df-convert:hover {\n",
              "      background-color: #E2EBFA;\n",
              "      box-shadow: 0px 1px 2px rgba(60, 64, 67, 0.3), 0px 1px 3px 1px rgba(60, 64, 67, 0.15);\n",
              "      fill: #174EA6;\n",
              "    }\n",
              "\n",
              "    .colab-df-buttons div {\n",
              "      margin-bottom: 4px;\n",
              "    }\n",
              "\n",
              "    [theme=dark] .colab-df-convert {\n",
              "      background-color: #3B4455;\n",
              "      fill: #D2E3FC;\n",
              "    }\n",
              "\n",
              "    [theme=dark] .colab-df-convert:hover {\n",
              "      background-color: #434B5C;\n",
              "      box-shadow: 0px 1px 3px 1px rgba(0, 0, 0, 0.15);\n",
              "      filter: drop-shadow(0px 1px 2px rgba(0, 0, 0, 0.3));\n",
              "      fill: #FFFFFF;\n",
              "    }\n",
              "  </style>\n",
              "\n",
              "    <script>\n",
              "      const buttonEl =\n",
              "        document.querySelector('#df-42772b7e-2ecf-4b6e-9477-43e26e11ffb3 button.colab-df-convert');\n",
              "      buttonEl.style.display =\n",
              "        google.colab.kernel.accessAllowed ? 'block' : 'none';\n",
              "\n",
              "      async function convertToInteractive(key) {\n",
              "        const element = document.querySelector('#df-42772b7e-2ecf-4b6e-9477-43e26e11ffb3');\n",
              "        const dataTable =\n",
              "          await google.colab.kernel.invokeFunction('convertToInteractive',\n",
              "                                                    [key], {});\n",
              "        if (!dataTable) return;\n",
              "\n",
              "        const docLinkHtml = 'Like what you see? Visit the ' +\n",
              "          '<a target=\"_blank\" href=https://colab.research.google.com/notebooks/data_table.ipynb>data table notebook</a>'\n",
              "          + ' to learn more about interactive tables.';\n",
              "        element.innerHTML = '';\n",
              "        dataTable['output_type'] = 'display_data';\n",
              "        await google.colab.output.renderOutput(dataTable, element);\n",
              "        const docLink = document.createElement('div');\n",
              "        docLink.innerHTML = docLinkHtml;\n",
              "        element.appendChild(docLink);\n",
              "      }\n",
              "    </script>\n",
              "  </div>\n",
              "\n",
              "\n",
              "<div id=\"df-4b6e3d3c-b486-4484-bb59-60aa7f81e611\">\n",
              "  <button class=\"colab-df-quickchart\" onclick=\"quickchart('df-4b6e3d3c-b486-4484-bb59-60aa7f81e611')\"\n",
              "            title=\"Suggest charts\"\n",
              "            style=\"display:none;\">\n",
              "\n",
              "<svg xmlns=\"http://www.w3.org/2000/svg\" height=\"24px\"viewBox=\"0 0 24 24\"\n",
              "     width=\"24px\">\n",
              "    <g>\n",
              "        <path d=\"M19 3H5c-1.1 0-2 .9-2 2v14c0 1.1.9 2 2 2h14c1.1 0 2-.9 2-2V5c0-1.1-.9-2-2-2zM9 17H7v-7h2v7zm4 0h-2V7h2v10zm4 0h-2v-4h2v4z\"/>\n",
              "    </g>\n",
              "</svg>\n",
              "  </button>\n",
              "\n",
              "<style>\n",
              "  .colab-df-quickchart {\n",
              "      --bg-color: #E8F0FE;\n",
              "      --fill-color: #1967D2;\n",
              "      --hover-bg-color: #E2EBFA;\n",
              "      --hover-fill-color: #174EA6;\n",
              "      --disabled-fill-color: #AAA;\n",
              "      --disabled-bg-color: #DDD;\n",
              "  }\n",
              "\n",
              "  [theme=dark] .colab-df-quickchart {\n",
              "      --bg-color: #3B4455;\n",
              "      --fill-color: #D2E3FC;\n",
              "      --hover-bg-color: #434B5C;\n",
              "      --hover-fill-color: #FFFFFF;\n",
              "      --disabled-bg-color: #3B4455;\n",
              "      --disabled-fill-color: #666;\n",
              "  }\n",
              "\n",
              "  .colab-df-quickchart {\n",
              "    background-color: var(--bg-color);\n",
              "    border: none;\n",
              "    border-radius: 50%;\n",
              "    cursor: pointer;\n",
              "    display: none;\n",
              "    fill: var(--fill-color);\n",
              "    height: 32px;\n",
              "    padding: 0;\n",
              "    width: 32px;\n",
              "  }\n",
              "\n",
              "  .colab-df-quickchart:hover {\n",
              "    background-color: var(--hover-bg-color);\n",
              "    box-shadow: 0 1px 2px rgba(60, 64, 67, 0.3), 0 1px 3px 1px rgba(60, 64, 67, 0.15);\n",
              "    fill: var(--button-hover-fill-color);\n",
              "  }\n",
              "\n",
              "  .colab-df-quickchart-complete:disabled,\n",
              "  .colab-df-quickchart-complete:disabled:hover {\n",
              "    background-color: var(--disabled-bg-color);\n",
              "    fill: var(--disabled-fill-color);\n",
              "    box-shadow: none;\n",
              "  }\n",
              "\n",
              "  .colab-df-spinner {\n",
              "    border: 2px solid var(--fill-color);\n",
              "    border-color: transparent;\n",
              "    border-bottom-color: var(--fill-color);\n",
              "    animation:\n",
              "      spin 1s steps(1) infinite;\n",
              "  }\n",
              "\n",
              "  @keyframes spin {\n",
              "    0% {\n",
              "      border-color: transparent;\n",
              "      border-bottom-color: var(--fill-color);\n",
              "      border-left-color: var(--fill-color);\n",
              "    }\n",
              "    20% {\n",
              "      border-color: transparent;\n",
              "      border-left-color: var(--fill-color);\n",
              "      border-top-color: var(--fill-color);\n",
              "    }\n",
              "    30% {\n",
              "      border-color: transparent;\n",
              "      border-left-color: var(--fill-color);\n",
              "      border-top-color: var(--fill-color);\n",
              "      border-right-color: var(--fill-color);\n",
              "    }\n",
              "    40% {\n",
              "      border-color: transparent;\n",
              "      border-right-color: var(--fill-color);\n",
              "      border-top-color: var(--fill-color);\n",
              "    }\n",
              "    60% {\n",
              "      border-color: transparent;\n",
              "      border-right-color: var(--fill-color);\n",
              "    }\n",
              "    80% {\n",
              "      border-color: transparent;\n",
              "      border-right-color: var(--fill-color);\n",
              "      border-bottom-color: var(--fill-color);\n",
              "    }\n",
              "    90% {\n",
              "      border-color: transparent;\n",
              "      border-bottom-color: var(--fill-color);\n",
              "    }\n",
              "  }\n",
              "</style>\n",
              "\n",
              "  <script>\n",
              "    async function quickchart(key) {\n",
              "      const quickchartButtonEl =\n",
              "        document.querySelector('#' + key + ' button');\n",
              "      quickchartButtonEl.disabled = true;  // To prevent multiple clicks.\n",
              "      quickchartButtonEl.classList.add('colab-df-spinner');\n",
              "      try {\n",
              "        const charts = await google.colab.kernel.invokeFunction(\n",
              "            'suggestCharts', [key], {});\n",
              "      } catch (error) {\n",
              "        console.error('Error during call to suggestCharts:', error);\n",
              "      }\n",
              "      quickchartButtonEl.classList.remove('colab-df-spinner');\n",
              "      quickchartButtonEl.classList.add('colab-df-quickchart-complete');\n",
              "    }\n",
              "    (() => {\n",
              "      let quickchartButtonEl =\n",
              "        document.querySelector('#df-4b6e3d3c-b486-4484-bb59-60aa7f81e611 button');\n",
              "      quickchartButtonEl.style.display =\n",
              "        google.colab.kernel.accessAllowed ? 'block' : 'none';\n",
              "    })();\n",
              "  </script>\n",
              "</div>\n",
              "\n",
              "    </div>\n",
              "  </div>\n"
            ],
            "application/vnd.google.colaboratory.intrinsic+json": {
              "type": "dataframe",
              "variable_name": "df",
              "summary": "{\n  \"name\": \"df\",\n  \"rows\": 117,\n  \"fields\": [\n    {\n      \"column\": \"Conteudo\",\n      \"properties\": {\n        \"dtype\": \"string\",\n        \"num_unique_values\": 114,\n        \"samples\": [\n          \"28.1. Para evitar um poss\\u00edvel conflito de interesses na presta\\u00e7\\u00e3o desse servi\\u00e7o, recomenda-se que os \\u00f3rg\\u00e3os avaliem formas alternativas de remunera\\u00e7\\u00e3o a exemplo de tabelas de pagamento escalonado por faixas de valores, pagamento de valor mensal com base em estimativas ou m\\u00e9dias de pagamentos anteriores, bem como a utiliza\\u00e7\\u00e3o de Unidades de Servi\\u00e7o T\\u00e9cnico, dentre outros, sendo que em todos os casos, os valores devem ser calculados com base na demanda de contagens previstas pelo \\u00f3rg\\u00e3o no planejamento da contrata\\u00e7\\u00e3o e, sempre que poss\\u00edvel, no registro hist\\u00f3rico de utiliza\\u00e7\\u00e3o de servi\\u00e7os semelhantes anteriores. Tamb\\u00e9m devem ser levados em conta os n\\u00edveis de servi\\u00e7o que ser\\u00e3o exigidos pelo \\u00f3rg\\u00e3o (prazos, qualidade, produtividade e etc).\",\n          \"B. Contrata\\u00e7\\u00e3o de servi\\u00e7o de desenvolvimento e sustenta\\u00e7\\u00e3o de portais web utilizando a plataforma de Sistemas de Gerenciamento de Conte\\u00fado.\",\n          \"10. O \\u00f3rg\\u00e3o deve avaliar, durante a fase de Planejamento da Contrata\\u00e7\\u00e3o, se disp\\u00f5e de servidores em quantidade e capacidade suficientes para a fiscaliza\\u00e7\\u00e3o de todos os controles, acompanhamento processual e demais atividades necess\\u00e1rias \\u00e0 aferi\\u00e7\\u00e3o das exig\\u00eancias contratuais. Caso n\\u00e3o haja servidores suficientes, o \\u00f3rg\\u00e3o deve abster-se de contratar.\"\n        ],\n        \"semantic_type\": \"\",\n        \"description\": \"\"\n      }\n    },\n    {\n      \"column\": \"Titulo\",\n      \"properties\": {\n        \"dtype\": \"category\",\n        \"num_unique_values\": 1,\n        \"samples\": [\n          \"Portaria_SGD_ME_5651_28_06_2022.txt\"\n        ],\n        \"semantic_type\": \"\",\n        \"description\": \"\"\n      }\n    },\n    {\n      \"column\": \"Embeddings\",\n      \"properties\": {\n        \"dtype\": \"object\",\n        \"semantic_type\": \"\",\n        \"description\": \"\"\n      }\n    }\n  ]\n}"
            }
          },
          "metadata": {},
          "execution_count": 13
        }
      ]
    },
    {
      "cell_type": "code",
      "source": [
        "def gerar_e_buscar_consulta(consulta, base, model):\n",
        "  embedding_da_consulta = genai.embed_content(model=model,\n",
        "                                 content=consulta,\n",
        "                                 task_type=\"RETRIEVAL_QUERY\")[\"embedding\"]\n",
        "\n",
        "  produtos_escalares = np.dot(np.stack(df[\"Embeddings\"]), embedding_da_consulta)\n",
        "\n",
        "  #indice = np.argmax(produtos_escalares)\n",
        "  # Usar np.argsort para obter os índices que ordenariam o array de produtos escalares em ordem ascendente\n",
        "  indices_ordenados = np.argsort(produtos_escalares)\n",
        "\n",
        "  # Para obter os índices em ordem descendente (do maior para o menor valor)\n",
        "  top_20_indices_desc = indices_ordenados[-20:][::-1]\n",
        "\n",
        "  return df.iloc[top_20_indices_desc][\"Conteudo\"]"
      ],
      "metadata": {
        "id": "LxyfqY8LxxHx"
      },
      "execution_count": 27,
      "outputs": []
    },
    {
      "cell_type": "code",
      "source": [
        "consulta = \"O que é recomendado para metrificar o esforço de desenvolvimento?\"\n",
        "\n",
        "trecho = gerar_e_buscar_consulta(consulta, df, model)\n",
        "print(trecho)"
      ],
      "metadata": {
        "colab": {
          "base_uri": "https://localhost:8080/",
          "height": 402
        },
        "id": "diM24PZU0OeE",
        "outputId": "f7ee5769-423e-4728-d540-8263fb50eb9d"
      },
      "execution_count": 30,
      "outputs": [
        {
          "output_type": "stream",
          "name": "stdout",
          "text": [
            "65    25. Recomenda-se que, para remuneração das atividades do catálogo de serviços de portais web relativas à implantação, configuração e sustentação de portais web com Sistemas de Gerenciamento de Conteúdo, os órgãos desenvolvam uma métrica objetiva para mensuração dos resultados que utilizem em seu cálculo o fator esforço, desde que esteja sempre atrelado diretamente à entrega dos produtos ou resultados presentes no Catálogo, ou que realize um pagamento fixo mensal, com aplicação dos controles adequados, baseado em dados históricos, na experiência e na maturidade do órgão na execução dos serviços de desenvolvimento e sustentação de portais web com Sistemas de Gerenciamento de Conteúdo presentes no Catálogo.\n",
            "46                                                                                                                                                                                                                                                                                                                                                                                   15. O órgão deve abster-se de pagar por atividades já incluídas no escopo dos serviços aferidos pela métrica de desenvolvimento de software, como levantamento de requisitos, reuniões ou outros custos operacionais da contratada que já fazem parte dos encargos do contrato passíveis da contraprestação financeira aferida pela métrica de resultados.\n",
            "45                                                                                                                                                                                                                                                                                                                                                                                                                                                                                                                                                               14. Todas as atividades inerentes ao ciclo de vida de desenvolvimento de software devem estar incluídas na métrica de pagamento em função dos resultados e produtos entregues.\n",
            "19                                                                                                                                                                                                                                                                                                                                                                                                                                                     3.2. Caso não seja possível contratar serviço de desenvolvimento de software por produto, é recomendada a contratação do serviço com escopo aberto, desde que um Estudo Técnico Preliminar com a definição de escopo anteceda a abertura de cada projeto de desenvolvimento de software.\n",
            "17                                                                                                                                                                                                                                                                                                                                                                                                                                                                                                                                                                                            3. Recomenda-se que as contratações de serviço de desenvolvimento de software sejam realizadas por produto, por linguagem ou por área de negócio.\n",
            "39                                                                                                                                  8. O órgão deve adotar em seu processo de desenvolvimento de software iterações curtas e entregas frequentes, observando a metodologia adotada e a complexidade do software, para que haja diminuição nos riscos das entregas, melhor acompanhamento contratual, melhor tratamento de riscos inerentes às áreas de negócio e uma melhor contrapartida financeira à empresa contratada pelos produtos entregues. Para metodologias ágeis, recomenda-se iterações de no máximo quatro semanas, para as demais metodologias e para níveis de complexidade alto recomenda-se iterações de no máximo seis meses.\n",
            "92                                                                                                                                                                                                                                                                                                                                                                                                                                                                                                   30. Recomenda-se a adequada capacitação dos servidores responsáveis pelas atividades de auditoria e aferição nas métricas de softwares adotadas pelo órgão, de modo a viabilizar a correta fiscalização e gestão dos contratos e serviços.\n",
            "37                                                                                                                                                                                                                                                                                                                                                                                                                                                                                                                                                                                                                   6.3. Recomenda-se a especialização do Processo de Software considerando a complexidade das soluções a serem desenvolvidas.\n",
            "50                                                                                                                                                                                                                                                                                                                                                                                                                                                                                                             17.2. Avaliar a viabilidade de adoção do Roteiro de Métricas de Software do SISP e do Guia de Contagem de Pontos de Função do SISP para projetos Data Warehouse, que podem ser obtidos através do link: http://www.sisp.gov.br/;\n",
            "76                                                                                                                                                                                                                                                                                                                                                                                     27.2.2. De forma complementar ao Manual de Práticas de Contagem do IFPUG, nos pontos em que esse Manual for omisso ou der margem a mais de uma interpretação, o órgão deve elaborar o roteiro de contagem próprio adequado às suas necessidades e características de desenvolvimento internas, utilizando o Roteiro de Métricas do SISP como referência.\n",
            "49                                                                                                                                                                                                                                                                                                                                                                                                                                                                                                                                                     17.1. Avaliar a viabilidade de adoção de um guia complementar ao Manual de Práticas de Contagem (CPM), para os pontos não cobertos pelo International Function Point Users Group(IFPUG);\n",
            "43                                                                                                                                                                                                     12. O órgão deve adotar critérios de teste e qualidade para soluções desenvolvidas, inclusive testes voltados ao atendimento das recomendações constantes no Modelo de Acessibilidade em Governo Eletrônico (eMAG), quando for o caso, e o uso de ferramentas que automatizem a verificação desses critérios, apoiando a fiscalização do contrato. Na ausência de ferramentas de apoio de teste e qualidade já adotadas pelo órgão, recomenda-se que seja avaliada a conveniência de prever em edital o fornecimento dessas ferramentas.\n",
            "61                                                                                                                                                                                                                                                                                                                                                                       23.1. A métrica Pontos de Função não é recomendada para serviços de implantação, configuração e sustentação de portais web com Sistemas de Gerenciamento de Conteúdo, bem como para aqueles serviços relacionados à apresentação visual e à gestão de conteúdo, pois claramente não se enquadram como desenvolvimento ou sustentação de funcionalidades de um sistema.\n",
            "72                                                                                                                                                                                                                                                                                                                                                                                                                                                                                                                    27.1.2. O nível de detalhes e a quantidade dos artefatos definidos pelo órgão do SISP para as contagens deve ser dimensionado de modo a se equilibrar o propósito da contagem e o esforço que será investido na contagem.\n",
            "69                                                                                                                                                                                                                                                                                                          27. Para os órgãos do SISP que optem pela adoção da métrica de Análise de Pontos de Função como fator de remuneração dos seus contratos, recomenda-se a contratação de serviço especializado de apoio à contagem de Pontos de Função nos casos em que não existam servidores capacitados em número suficiente para atender todas as demandas de contagem existentes no órgão, viabilizando a fiscalização correta desses contratos.\n",
            "90                                                                                                                                                                                                                                                                                                                                                                                                                                                                                                                        29.5. Manter atualizados os registros dos tamanhos funcionais em Pontos de Função dos softwares em uso no órgão (baseline) que tenham sido desenvolvidos internamente ou por serviços de desenvolvimento de software;\n",
            "34                                                                                                                                                                                                                                                                                                                                                                                                                                                                                                                                                                           6. Visando a redução de riscos no desenvolvimento de software, o órgão deve adotar um Processo de Desenvolvimento de Software, considerando os seguintes aspectos:\n",
            "21                                                                                                                                                                                                                                                                                                                                                                                                          3.4. No início desse estudo deve ser validado se a demanda de software está prevista no Plano Diretor de Tecnologia da Informação e Comunicação (PDTIC) do órgão. Caso não esteja, o Comitê de Governança Digital ou, na ausência desse, a autoridade máxima do órgão deverá deliberar e decidir sobre o prosseguimento do projeto.\n",
            "57                                                                                                                                                                                                                                                                                                                                                                                                                                                                                                                 21. Recomenda-se que os valores executados em contratos cujos objetos tratem da prestação de serviços de desenvolvimento, manutenção e sustentação de software sejam registrados anualmente no Catálogo de Software do SISP.\n",
            "7                                                                                                                                                                                                                                                                                                                                 1. Antes de decidir pela contratação de serviço de desenvolvimento de software ou pela abertura de projetos de desenvolvimento de software, a Equipe de Planejamento da Contratação ou a Equipe de Gestão de Projetos do órgão deve realizar Estudo Técnico Preliminar, nos termos do disposto no art. 12 da Instrução Normativa SLTI/MP nº 4, de 11 de setembro de 2014, e executar as seguintes atividades:\n",
            "Name: Conteudo, dtype: object\n"
          ]
        }
      ]
    },
    {
      "cell_type": "code",
      "source": [
        "generation_config = {\n",
        "  \"temperature\": 0,\n",
        "  \"candidate_count\": 1\n",
        "}"
      ],
      "metadata": {
        "id": "9_Fe6WO237bK"
      },
      "execution_count": 25,
      "outputs": []
    },
    {
      "cell_type": "code",
      "source": [
        "prompt = f\"Resuma o texto, sem adicionar informações que não façam parte do texto, considerando a pergunta {consulta}. Texto:  {trecho}\"\n",
        "\n",
        "model_2 = genai.GenerativeModel(\"gemini-1.0-pro\",\n",
        "                                generation_config=generation_config)\n",
        "response = model_2.generate_content(prompt)\n",
        "print(response.text)"
      ],
      "metadata": {
        "colab": {
          "base_uri": "https://localhost:8080/",
          "height": 191
        },
        "id": "bDHQlEuV4Jay",
        "outputId": "a537738d-5586-47e3-e6fa-50e0394b715b"
      },
      "execution_count": 32,
      "outputs": [
        {
          "output_type": "stream",
          "name": "stdout",
          "text": [
            "Para metrificar o esforço de desenvolvimento, recomenda-se:\n",
            "\n",
            "* Utilizar uma métrica objetiva que inclua o fator esforço no cálculo, atrelada à entrega de produtos ou resultados.\n",
            "* Incluir todas as atividades do ciclo de vida de desenvolvimento de software na métrica de pagamento.\n",
            "* Adotar iterações curtas e entregas frequentes para diminuir riscos e melhorar o acompanhamento contratual.\n",
            "* Capacitar servidores responsáveis pela auditoria e aferição das métricas de software.\n",
            "* Especializar o Processo de Software considerando a complexidade das soluções.\n",
            "* Avaliar a adoção do Roteiro de Métricas de Software do SISP e do Guia de Contagem de Pontos de Função do SISP.\n",
            "* Elaborar um roteiro de contagem próprio para pontos não cobertos pelo Manual de Práticas de Contagem do IFPUG.\n",
            "* Adotar critérios de teste e qualidade para soluções desenvolvidas.\n"
          ]
        }
      ]
    }
  ]
}
